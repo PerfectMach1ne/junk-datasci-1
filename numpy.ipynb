{
  "nbformat": 4,
  "nbformat_minor": 0,
  "metadata": {
    "colab": {
      "provenance": [],
      "authorship_tag": "ABX9TyOG15Le6OmSpN6UDCA7khDY",
      "include_colab_link": true
    },
    "kernelspec": {
      "name": "python3",
      "display_name": "Python 3"
    },
    "language_info": {
      "name": "python"
    }
  },
  "cells": [
    {
      "cell_type": "markdown",
      "metadata": {
        "id": "view-in-github",
        "colab_type": "text"
      },
      "source": [
        "<a href=\"https://colab.research.google.com/github/PerfectMach1ne/machine-learning-data-science/blob/main/numpy.ipynb\" target=\"_parent\"><img src=\"https://colab.research.google.com/assets/colab-badge.svg\" alt=\"Open In Colab\"/></a>"
      ]
    },
    {
      "cell_type": "markdown",
      "source": [
        "# NumPy time\n",
        "Based on https://www.youtube.com/watch?v=QUT1VHiLmmI\n",
        "Might expand it with own research sometime later (unless I decide to do it in a different Jupyter Notebook or within separate Python scripts).\n",
        "\n",
        "---\n",
        "\n"
      ],
      "metadata": {
        "id": "KdWQeH-lCtV8"
      }
    },
    {
      "cell_type": "code",
      "execution_count": 107,
      "metadata": {
        "id": "WAvc3b5lCrMN"
      },
      "outputs": [],
      "source": [
        "import numpy as np"
      ]
    },
    {
      "cell_type": "code",
      "source": [
        "a = np.array([5,7,4,9])\n",
        "b = np.array([[0,1,0],[1,0,1],[0,1,1]], dtype='int16')\n",
        "print(a)\n",
        "print(b)"
      ],
      "metadata": {
        "colab": {
          "base_uri": "https://localhost:8080/"
        },
        "id": "X9_s2GICZSZl",
        "outputId": "fca49b62-5883-4051-aab7-0aa7c176c9b6"
      },
      "execution_count": 108,
      "outputs": [
        {
          "output_type": "stream",
          "name": "stdout",
          "text": [
            "[5 7 4 9]\n",
            "[[0 1 0]\n",
            " [1 0 1]\n",
            " [0 1 1]]\n"
          ]
        }
      ]
    },
    {
      "cell_type": "code",
      "source": [
        "# Get dimension\n",
        "print(a.ndim)\n",
        "print(b.ndim)"
      ],
      "metadata": {
        "colab": {
          "base_uri": "https://localhost:8080/"
        },
        "id": "2J7uHBgxZmV7",
        "outputId": "61342c68-2bdb-4ab1-ff93-698e9c58f611"
      },
      "execution_count": 109,
      "outputs": [
        {
          "output_type": "stream",
          "name": "stdout",
          "text": [
            "1\n",
            "2\n"
          ]
        }
      ]
    },
    {
      "cell_type": "code",
      "source": [
        "# Get shape\n",
        "print(a.shape)\n",
        "print(b.shape)"
      ],
      "metadata": {
        "colab": {
          "base_uri": "https://localhost:8080/"
        },
        "id": "nDVRPEs2Zv1w",
        "outputId": "1a734b1a-77e8-451c-b870-4e93783760d8"
      },
      "execution_count": 110,
      "outputs": [
        {
          "output_type": "stream",
          "name": "stdout",
          "text": [
            "(4,)\n",
            "(3, 3)\n"
          ]
        }
      ]
    },
    {
      "cell_type": "code",
      "source": [
        "# Get type\n",
        "print(a.dtype)\n",
        "print(b.dtype)"
      ],
      "metadata": {
        "colab": {
          "base_uri": "https://localhost:8080/"
        },
        "id": "jtPLEiipZ04y",
        "outputId": "e27d34db-d4f6-4332-8746-572fdbfe99ec"
      },
      "execution_count": 111,
      "outputs": [
        {
          "output_type": "stream",
          "name": "stdout",
          "text": [
            "int64\n",
            "int16\n"
          ]
        }
      ]
    },
    {
      "cell_type": "code",
      "source": [
        "# Get size\n",
        "print(a.itemsize)\n",
        "print(b.itemsize)\n",
        "c = np.array([1,2,3], dtype='int8')\n",
        "print(c.itemsize)\n",
        "# Get total size\n",
        "print(b.size * b.itemsize)\n",
        "print(b.nbytes) # number of bytes"
      ],
      "metadata": {
        "colab": {
          "base_uri": "https://localhost:8080/"
        },
        "id": "VWvJLkSkaHFK",
        "outputId": "88e23aef-3896-4588-8451-3d8969742ffb"
      },
      "execution_count": 112,
      "outputs": [
        {
          "output_type": "stream",
          "name": "stdout",
          "text": [
            "8\n",
            "2\n",
            "1\n",
            "18\n",
            "18\n"
          ]
        }
      ]
    },
    {
      "cell_type": "markdown",
      "source": [
        "## Accessing/changing specific elements, rows, columns, etc"
      ],
      "metadata": {
        "id": "j4OMLAclawcl"
      }
    },
    {
      "cell_type": "code",
      "source": [
        "a = np.array([[1,2,3,4,5,6,7],[8,9,10,11,12,13,14]])\n",
        "print(a)\n",
        "print(a.shape)"
      ],
      "metadata": {
        "colab": {
          "base_uri": "https://localhost:8080/"
        },
        "id": "rkV-1FDKawPY",
        "outputId": "3a31a36d-b1d7-4e72-ac93-2a7a9cfb84f7"
      },
      "execution_count": 113,
      "outputs": [
        {
          "output_type": "stream",
          "name": "stdout",
          "text": [
            "[[ 1  2  3  4  5  6  7]\n",
            " [ 8  9 10 11 12 13 14]]\n",
            "(2, 7)\n"
          ]
        }
      ]
    },
    {
      "cell_type": "code",
      "source": [
        "# Get a specific element [r, c]\n",
        "a[1,5]"
      ],
      "metadata": {
        "colab": {
          "base_uri": "https://localhost:8080/"
        },
        "id": "7HC9qxrqbAPK",
        "outputId": "545c9ad3-8bc7-4599-aa51-cb2c93ac267e"
      },
      "execution_count": 114,
      "outputs": [
        {
          "output_type": "execute_result",
          "data": {
            "text/plain": [
              "13"
            ]
          },
          "metadata": {},
          "execution_count": 114
        }
      ]
    },
    {
      "cell_type": "code",
      "source": [
        "# Get a specific row\n",
        "print(a[0, :])\n",
        "# Get a specific column\n",
        "print(a[:, 2])"
      ],
      "metadata": {
        "colab": {
          "base_uri": "https://localhost:8080/"
        },
        "id": "2HMsicn0bNNQ",
        "outputId": "960c6410-23b3-4a0b-a2fc-79b357e62c06"
      },
      "execution_count": 115,
      "outputs": [
        {
          "output_type": "stream",
          "name": "stdout",
          "text": [
            "[1 2 3 4 5 6 7]\n",
            "[ 3 10]\n"
          ]
        }
      ]
    },
    {
      "cell_type": "code",
      "source": [
        "# [startindex:endindex:stepsize]\n",
        "a[0,1:-1:2]"
      ],
      "metadata": {
        "colab": {
          "base_uri": "https://localhost:8080/"
        },
        "id": "DteImImFbbd3",
        "outputId": "7672d75b-9218-4e6d-bbd4-77160db47857"
      },
      "execution_count": 116,
      "outputs": [
        {
          "output_type": "execute_result",
          "data": {
            "text/plain": [
              "array([2, 4, 6])"
            ]
          },
          "metadata": {},
          "execution_count": 116
        }
      ]
    },
    {
      "cell_type": "code",
      "source": [
        "print(a)\n",
        "a[1,5] = 57\n",
        "print(a)"
      ],
      "metadata": {
        "colab": {
          "base_uri": "https://localhost:8080/"
        },
        "id": "AWkzErk-b5Tp",
        "outputId": "b4bc035a-8a84-4c14-d939-5b2c41f3ced6"
      },
      "execution_count": 117,
      "outputs": [
        {
          "output_type": "stream",
          "name": "stdout",
          "text": [
            "[[ 1  2  3  4  5  6  7]\n",
            " [ 8  9 10 11 12 13 14]]\n",
            "[[ 1  2  3  4  5  6  7]\n",
            " [ 8  9 10 11 12 57 14]]\n"
          ]
        }
      ]
    },
    {
      "cell_type": "code",
      "source": [
        "print(a)\n",
        "a[:,4] = [1,2]\n",
        "print(a)"
      ],
      "metadata": {
        "colab": {
          "base_uri": "https://localhost:8080/"
        },
        "id": "ixRUc3XScG7P",
        "outputId": "344d10a0-caf3-4465-a4b5-f86c0376013a"
      },
      "execution_count": 118,
      "outputs": [
        {
          "output_type": "stream",
          "name": "stdout",
          "text": [
            "[[ 1  2  3  4  5  6  7]\n",
            " [ 8  9 10 11 12 57 14]]\n",
            "[[ 1  2  3  4  1  6  7]\n",
            " [ 8  9 10 11  2 57 14]]\n"
          ]
        }
      ]
    },
    {
      "cell_type": "markdown",
      "source": [
        "#### 3D example"
      ],
      "metadata": {
        "id": "BOsdxboPcREA"
      }
    },
    {
      "cell_type": "code",
      "source": [
        "b = np.array([[[1,2],[3,4]],[[5,6],[7,8]]])\n",
        "print(b)"
      ],
      "metadata": {
        "colab": {
          "base_uri": "https://localhost:8080/"
        },
        "id": "NMgmiTaqcQOh",
        "outputId": "809b9d60-a7f3-4793-cb2c-c5899ec52a2a"
      },
      "execution_count": 119,
      "outputs": [
        {
          "output_type": "stream",
          "name": "stdout",
          "text": [
            "[[[1 2]\n",
            "  [3 4]]\n",
            "\n",
            " [[5 6]\n",
            "  [7 8]]]\n"
          ]
        }
      ]
    },
    {
      "cell_type": "code",
      "source": [
        "print(b[0,1,:])\n",
        "print(b[1,:,:])\n",
        "print(b[1,1,0])"
      ],
      "metadata": {
        "colab": {
          "base_uri": "https://localhost:8080/"
        },
        "id": "HW5U8OQvccMp",
        "outputId": "d6bc0f26-7ca5-413d-e9dc-e65802a39dbb"
      },
      "execution_count": 120,
      "outputs": [
        {
          "output_type": "stream",
          "name": "stdout",
          "text": [
            "[3 4]\n",
            "[[5 6]\n",
            " [7 8]]\n",
            "7\n"
          ]
        }
      ]
    },
    {
      "cell_type": "markdown",
      "source": [
        "#### Initializing different types of arrays"
      ],
      "metadata": {
        "id": "B5jMnzqygPcw"
      }
    },
    {
      "cell_type": "code",
      "source": [
        "# All 0s matrix"
      ],
      "metadata": {
        "id": "CTi6SNBHgRgh"
      },
      "execution_count": 121,
      "outputs": []
    },
    {
      "cell_type": "code",
      "source": [
        "np.zeros((2,3))"
      ],
      "metadata": {
        "colab": {
          "base_uri": "https://localhost:8080/"
        },
        "id": "EttDashJgUBo",
        "outputId": "40b59a1e-2f8e-4de8-8988-8d340de4132f"
      },
      "execution_count": 122,
      "outputs": [
        {
          "output_type": "execute_result",
          "data": {
            "text/plain": [
              "array([[0., 0., 0.],\n",
              "       [0., 0., 0.]])"
            ]
          },
          "metadata": {},
          "execution_count": 122
        }
      ]
    },
    {
      "cell_type": "code",
      "source": [
        "# All 1s matrix\n",
        "np.ones((5,7))"
      ],
      "metadata": {
        "colab": {
          "base_uri": "https://localhost:8080/"
        },
        "id": "91zZVZJfgYNO",
        "outputId": "a53cdd4e-920a-40ea-f59f-822b7a1e8e1f"
      },
      "execution_count": 123,
      "outputs": [
        {
          "output_type": "execute_result",
          "data": {
            "text/plain": [
              "array([[1., 1., 1., 1., 1., 1., 1.],\n",
              "       [1., 1., 1., 1., 1., 1., 1.],\n",
              "       [1., 1., 1., 1., 1., 1., 1.],\n",
              "       [1., 1., 1., 1., 1., 1., 1.],\n",
              "       [1., 1., 1., 1., 1., 1., 1.]])"
            ]
          },
          "metadata": {},
          "execution_count": 123
        }
      ]
    },
    {
      "cell_type": "code",
      "source": [
        "np.ones((4,2,2), dtype='int32')"
      ],
      "metadata": {
        "colab": {
          "base_uri": "https://localhost:8080/"
        },
        "id": "sq_c9XDlgc5x",
        "outputId": "dab0c078-3168-4a08-f5cc-ff0afc97cec6"
      },
      "execution_count": 124,
      "outputs": [
        {
          "output_type": "execute_result",
          "data": {
            "text/plain": [
              "array([[[1, 1],\n",
              "        [1, 1]],\n",
              "\n",
              "       [[1, 1],\n",
              "        [1, 1]],\n",
              "\n",
              "       [[1, 1],\n",
              "        [1, 1]],\n",
              "\n",
              "       [[1, 1],\n",
              "        [1, 1]]], dtype=int32)"
            ]
          },
          "metadata": {},
          "execution_count": 124
        }
      ]
    },
    {
      "cell_type": "code",
      "source": [
        "# Any other number\n",
        "np.full((2,2), 57)"
      ],
      "metadata": {
        "colab": {
          "base_uri": "https://localhost:8080/"
        },
        "id": "ih547sa3giSg",
        "outputId": "0c6157bd-df0e-4607-b516-4a3ea6aa888d"
      },
      "execution_count": 125,
      "outputs": [
        {
          "output_type": "execute_result",
          "data": {
            "text/plain": [
              "array([[57, 57],\n",
              "       [57, 57]])"
            ]
          },
          "metadata": {},
          "execution_count": 125
        }
      ]
    },
    {
      "cell_type": "code",
      "source": [
        "np.full_like(c.shape, 4)"
      ],
      "metadata": {
        "colab": {
          "base_uri": "https://localhost:8080/"
        },
        "id": "xtIzzLW5gqbR",
        "outputId": "eb457974-466c-48f5-c25c-b91cd4851af6"
      },
      "execution_count": 126,
      "outputs": [
        {
          "output_type": "execute_result",
          "data": {
            "text/plain": [
              "array([4])"
            ]
          },
          "metadata": {},
          "execution_count": 126
        }
      ]
    },
    {
      "cell_type": "code",
      "source": [
        "# Random decimal numbers\n",
        "np.random.rand(4,2)"
      ],
      "metadata": {
        "colab": {
          "base_uri": "https://localhost:8080/"
        },
        "id": "BRFNjXBwhAEA",
        "outputId": "8d9c539d-c9fc-4d21-e59f-27478c22ad77"
      },
      "execution_count": 127,
      "outputs": [
        {
          "output_type": "execute_result",
          "data": {
            "text/plain": [
              "array([[0.60308314, 0.72239381],\n",
              "       [0.78213407, 0.68290738],\n",
              "       [0.99545251, 0.59186701],\n",
              "       [0.1417175 , 0.30078643]])"
            ]
          },
          "metadata": {},
          "execution_count": 127
        }
      ]
    },
    {
      "cell_type": "code",
      "source": [
        "# Random integer values\n",
        "np.random.randint(-7,5,size=(3,3))"
      ],
      "metadata": {
        "colab": {
          "base_uri": "https://localhost:8080/"
        },
        "id": "qYLIKk0HhaHf",
        "outputId": "5fcf58f1-2cc6-467a-f3b6-4ae5b5dd790e"
      },
      "execution_count": 128,
      "outputs": [
        {
          "output_type": "execute_result",
          "data": {
            "text/plain": [
              "array([[-4, -1,  2],\n",
              "       [ 4,  0,  0],\n",
              "       [-3,  3, -3]])"
            ]
          },
          "metadata": {},
          "execution_count": 128
        }
      ]
    },
    {
      "cell_type": "code",
      "source": [
        "np.identity(5)"
      ],
      "metadata": {
        "colab": {
          "base_uri": "https://localhost:8080/"
        },
        "id": "D3FDONJ7husw",
        "outputId": "e7859068-a5cf-4311-d1ca-88acf9f62c02"
      },
      "execution_count": 129,
      "outputs": [
        {
          "output_type": "execute_result",
          "data": {
            "text/plain": [
              "array([[1., 0., 0., 0., 0.],\n",
              "       [0., 1., 0., 0., 0.],\n",
              "       [0., 0., 1., 0., 0.],\n",
              "       [0., 0., 0., 1., 0.],\n",
              "       [0., 0., 0., 0., 1.]])"
            ]
          },
          "metadata": {},
          "execution_count": 129
        }
      ]
    },
    {
      "cell_type": "code",
      "source": [
        "arr = np.array([[1,2,3]])\n",
        "r1 = np.repeat(arr, 3, axis=0)\n",
        "print(r1)"
      ],
      "metadata": {
        "colab": {
          "base_uri": "https://localhost:8080/"
        },
        "id": "MVPJX6cch2dx",
        "outputId": "e8790786-e7ee-438b-8d62-4921cb42ca30"
      },
      "execution_count": 130,
      "outputs": [
        {
          "output_type": "stream",
          "name": "stdout",
          "text": [
            "[[1 2 3]\n",
            " [1 2 3]\n",
            " [1 2 3]]\n"
          ]
        }
      ]
    },
    {
      "cell_type": "markdown",
      "source": [
        "#### Special thingy"
      ],
      "metadata": {
        "id": "jVuQO9ZGiUmv"
      }
    },
    {
      "cell_type": "code",
      "source": [
        "output = np.ones((5,5))\n",
        "print(output)"
      ],
      "metadata": {
        "colab": {
          "base_uri": "https://localhost:8080/"
        },
        "id": "jYEDUJLciO4U",
        "outputId": "baade32d-52de-4324-d5c3-f25ca8f9416d"
      },
      "execution_count": 131,
      "outputs": [
        {
          "output_type": "stream",
          "name": "stdout",
          "text": [
            "[[1. 1. 1. 1. 1.]\n",
            " [1. 1. 1. 1. 1.]\n",
            " [1. 1. 1. 1. 1.]\n",
            " [1. 1. 1. 1. 1.]\n",
            " [1. 1. 1. 1. 1.]]\n"
          ]
        }
      ]
    },
    {
      "cell_type": "code",
      "source": [
        "z = np.zeros((3,3))\n",
        "z[1,1] = 0\n",
        "print(z)\n",
        "output[1:-1,1:-1] = z # could also be [1:4, 1:4] but I just figured out with my poorly functioning brain that there is a more general way of doing it\n",
        "print(output)"
      ],
      "metadata": {
        "colab": {
          "base_uri": "https://localhost:8080/"
        },
        "id": "GENtSPiWiSLW",
        "outputId": "9e5fe160-1a48-49dd-ca23-b46234d72aad"
      },
      "execution_count": 132,
      "outputs": [
        {
          "output_type": "stream",
          "name": "stdout",
          "text": [
            "[[0. 0. 0.]\n",
            " [0. 0. 0.]\n",
            " [0. 0. 0.]]\n",
            "[[1. 1. 1. 1. 1.]\n",
            " [1. 0. 0. 0. 1.]\n",
            " [1. 0. 0. 0. 1.]\n",
            " [1. 0. 0. 0. 1.]\n",
            " [1. 1. 1. 1. 1.]]\n"
          ]
        }
      ]
    },
    {
      "cell_type": "code",
      "source": [
        "w = np.zeros((3,3))\n",
        "w[1,1] = 9\n",
        "output[1:-1,1:-1] = w\n",
        "print(output)"
      ],
      "metadata": {
        "colab": {
          "base_uri": "https://localhost:8080/"
        },
        "id": "ZL-kik0Wipy6",
        "outputId": "fc671837-58e3-46c9-910f-114d94c0978f"
      },
      "execution_count": 133,
      "outputs": [
        {
          "output_type": "stream",
          "name": "stdout",
          "text": [
            "[[1. 1. 1. 1. 1.]\n",
            " [1. 0. 0. 0. 1.]\n",
            " [1. 0. 9. 0. 1.]\n",
            " [1. 0. 0. 0. 1.]\n",
            " [1. 1. 1. 1. 1.]]\n"
          ]
        }
      ]
    },
    {
      "cell_type": "markdown",
      "source": [
        "***Dangerous thiiing***"
      ],
      "metadata": {
        "id": "n7sIZvDcjWBI"
      }
    },
    {
      "cell_type": "code",
      "source": [
        "a = np.array([1,2,3])\n",
        "b = a # point to the same thing as a\n",
        "b[0] = 100\n",
        "print(a)\n",
        "print(b)"
      ],
      "metadata": {
        "colab": {
          "base_uri": "https://localhost:8080/"
        },
        "id": "9DWaDwRFjDI-",
        "outputId": "53e9b78e-9c45-4e43-ed35-9ca8494be2d6"
      },
      "execution_count": 134,
      "outputs": [
        {
          "output_type": "stream",
          "name": "stdout",
          "text": [
            "[100   2   3]\n",
            "[100   2   3]\n"
          ]
        }
      ]
    },
    {
      "cell_type": "code",
      "source": [
        "a = np.array([1,2,3])\n",
        "b = a.copy()\n",
        "b[0] = 100\n",
        "print(a)\n",
        "print(b)"
      ],
      "metadata": {
        "colab": {
          "base_uri": "https://localhost:8080/"
        },
        "id": "fbWBqdGDjv2z",
        "outputId": "858e62e4-c435-405f-d54d-0b33a932d93e"
      },
      "execution_count": 135,
      "outputs": [
        {
          "output_type": "stream",
          "name": "stdout",
          "text": [
            "[1 2 3]\n",
            "[100   2   3]\n"
          ]
        }
      ]
    },
    {
      "cell_type": "markdown",
      "source": [
        "#### M a f f"
      ],
      "metadata": {
        "id": "n1c34-8Pj5Sg"
      }
    },
    {
      "cell_type": "code",
      "source": [
        "# Element-wise arithmetic\n",
        "a = np.array([1,2,3,4])\n",
        "a += 2\n",
        "print(a)\n",
        "a -= 2\n",
        "print(a)\n",
        "a *= 2\n",
        "print(a)\n",
        "b = a / 4\n",
        "print(b)\n",
        "a = a ** 2\n",
        "print(a)\n",
        "c = [-1,-2,-3,-4]\n",
        "print(a + c)"
      ],
      "metadata": {
        "colab": {
          "base_uri": "https://localhost:8080/"
        },
        "id": "pWTTcrI5j7BW",
        "outputId": "6d0c7ffc-25f4-4707-92ec-0d5b0514f24e"
      },
      "execution_count": 136,
      "outputs": [
        {
          "output_type": "stream",
          "name": "stdout",
          "text": [
            "[3 4 5 6]\n",
            "[1 2 3 4]\n",
            "[2 4 6 8]\n",
            "[0.5 1.  1.5 2. ]\n",
            "[ 4 16 36 64]\n",
            "[ 3 14 33 60]\n"
          ]
        }
      ]
    },
    {
      "cell_type": "code",
      "source": [
        "np.cos(c)"
      ],
      "metadata": {
        "colab": {
          "base_uri": "https://localhost:8080/"
        },
        "id": "O_hFcHitkroq",
        "outputId": "103ccecc-29f2-4412-e038-c683f6fb29d0"
      },
      "execution_count": 137,
      "outputs": [
        {
          "output_type": "execute_result",
          "data": {
            "text/plain": [
              "array([ 0.54030231, -0.41614684, -0.9899925 , -0.65364362])"
            ]
          },
          "metadata": {},
          "execution_count": 137
        }
      ]
    },
    {
      "cell_type": "markdown",
      "source": [
        "#### Linear algebruh"
      ],
      "metadata": {
        "id": "OEIoZwVQlIbP"
      }
    },
    {
      "cell_type": "code",
      "source": [
        "a = np.ones((2,8))\n",
        "b = np.full((8,2), 2)\n",
        "print(a)\n",
        "print(b)\n",
        "# a*b # won't work lol\n",
        "c = np.matmul(a,b)\n",
        "print(c)"
      ],
      "metadata": {
        "colab": {
          "base_uri": "https://localhost:8080/"
        },
        "id": "FAvN8ebglJwm",
        "outputId": "e8fd55b6-8f8c-40b4-b363-9c213dc308e0"
      },
      "execution_count": 138,
      "outputs": [
        {
          "output_type": "stream",
          "name": "stdout",
          "text": [
            "[[1. 1. 1. 1. 1. 1. 1. 1.]\n",
            " [1. 1. 1. 1. 1. 1. 1. 1.]]\n",
            "[[2 2]\n",
            " [2 2]\n",
            " [2 2]\n",
            " [2 2]\n",
            " [2 2]\n",
            " [2 2]\n",
            " [2 2]\n",
            " [2 2]]\n",
            "[[16. 16.]\n",
            " [16. 16.]]\n"
          ]
        }
      ]
    },
    {
      "cell_type": "markdown",
      "source": [
        "#### \"STATITSTICs\""
      ],
      "metadata": {
        "id": "Jol3CWP-lxDn"
      }
    },
    {
      "cell_type": "code",
      "source": [
        "stits = np.array([[1,2,3],[4,5,6]])\n",
        "stits"
      ],
      "metadata": {
        "colab": {
          "base_uri": "https://localhost:8080/"
        },
        "id": "OvtazakVlzZ4",
        "outputId": "b9d5f78b-7827-42be-e3df-f65c0672a64d"
      },
      "execution_count": 139,
      "outputs": [
        {
          "output_type": "execute_result",
          "data": {
            "text/plain": [
              "array([[1, 2, 3],\n",
              "       [4, 5, 6]])"
            ]
          },
          "metadata": {},
          "execution_count": 139
        }
      ]
    },
    {
      "cell_type": "code",
      "source": [
        "np.min(stits)"
      ],
      "metadata": {
        "colab": {
          "base_uri": "https://localhost:8080/"
        },
        "id": "VspEy2IWl475",
        "outputId": "4bd46b77-fd4d-48f1-ff5e-da94a0d18dbf"
      },
      "execution_count": 140,
      "outputs": [
        {
          "output_type": "execute_result",
          "data": {
            "text/plain": [
              "1"
            ]
          },
          "metadata": {},
          "execution_count": 140
        }
      ]
    },
    {
      "cell_type": "code",
      "source": [
        "np.min(stits, axis=1)"
      ],
      "metadata": {
        "colab": {
          "base_uri": "https://localhost:8080/"
        },
        "id": "kHAF9Vljl6o3",
        "outputId": "96f298ae-8be2-45f1-88e7-c16e17520b9a"
      },
      "execution_count": 141,
      "outputs": [
        {
          "output_type": "execute_result",
          "data": {
            "text/plain": [
              "array([1, 4])"
            ]
          },
          "metadata": {},
          "execution_count": 141
        }
      ]
    },
    {
      "cell_type": "code",
      "source": [
        "np.max(stits, axis=0)"
      ],
      "metadata": {
        "colab": {
          "base_uri": "https://localhost:8080/"
        },
        "id": "k5t5lLkHl9-H",
        "outputId": "c9525534-a601-4bde-d6c0-59dee475f008"
      },
      "execution_count": 142,
      "outputs": [
        {
          "output_type": "execute_result",
          "data": {
            "text/plain": [
              "array([4, 5, 6])"
            ]
          },
          "metadata": {},
          "execution_count": 142
        }
      ]
    },
    {
      "cell_type": "code",
      "source": [
        "np.sum(stits)"
      ],
      "metadata": {
        "colab": {
          "base_uri": "https://localhost:8080/"
        },
        "id": "EmhIsKgNmDW5",
        "outputId": "0ee96241-3ae3-4bd9-bbff-37f48d0d6a9d"
      },
      "execution_count": 143,
      "outputs": [
        {
          "output_type": "execute_result",
          "data": {
            "text/plain": [
              "21"
            ]
          },
          "metadata": {},
          "execution_count": 143
        }
      ]
    },
    {
      "cell_type": "markdown",
      "source": [
        "#### Reorganizing arrays"
      ],
      "metadata": {
        "id": "vaXaI2EUmMwS"
      }
    },
    {
      "cell_type": "code",
      "source": [
        "before =  np.array([[1,2,3,4],[5,6,7,8]])\n",
        "print(before)\n",
        "# turning it into an 8 by 1\n",
        "after = before.reshape((8,1))\n",
        "print(after)\n",
        "after = before.reshape((2,2,2))\n",
        "print(after)\n",
        "# Product of dimensions must equal to the number of all elements"
      ],
      "metadata": {
        "colab": {
          "base_uri": "https://localhost:8080/"
        },
        "id": "2RBOvDHRmL7A",
        "outputId": "92ad1f9f-eaa3-4001-e78e-c4fee5cea244"
      },
      "execution_count": 144,
      "outputs": [
        {
          "output_type": "stream",
          "name": "stdout",
          "text": [
            "[[1 2 3 4]\n",
            " [5 6 7 8]]\n",
            "[[1]\n",
            " [2]\n",
            " [3]\n",
            " [4]\n",
            " [5]\n",
            " [6]\n",
            " [7]\n",
            " [8]]\n",
            "[[[1 2]\n",
            "  [3 4]]\n",
            "\n",
            " [[5 6]\n",
            "  [7 8]]]\n"
          ]
        }
      ]
    },
    {
      "cell_type": "code",
      "source": [
        "# Vertical stacking vectors\n",
        "v1 = np.array([1,2,3,4])\n",
        "v2 = np.array([5,6,7,8])\n",
        "np.vstack([v1,v2,v1,v2])"
      ],
      "metadata": {
        "colab": {
          "base_uri": "https://localhost:8080/"
        },
        "id": "zEdXcjwLmn_i",
        "outputId": "1439f280-919b-42db-86a9-a195c138210f"
      },
      "execution_count": 145,
      "outputs": [
        {
          "output_type": "execute_result",
          "data": {
            "text/plain": [
              "array([[1, 2, 3, 4],\n",
              "       [5, 6, 7, 8],\n",
              "       [1, 2, 3, 4],\n",
              "       [5, 6, 7, 8]])"
            ]
          },
          "metadata": {},
          "execution_count": 145
        }
      ]
    },
    {
      "cell_type": "code",
      "source": [
        "h1 = np.ones((2,4))\n",
        "h2 = np.zeros((2,2))\n",
        "np.hstack([h1,h2]) # can be [h1,h2] or (h1,h2)"
      ],
      "metadata": {
        "colab": {
          "base_uri": "https://localhost:8080/"
        },
        "id": "YYrOy325m3BX",
        "outputId": "d0f056d7-d6dc-491b-9873-7c3a27ffc38e"
      },
      "execution_count": 146,
      "outputs": [
        {
          "output_type": "execute_result",
          "data": {
            "text/plain": [
              "array([[1., 1., 1., 1., 0., 0.],\n",
              "       [1., 1., 1., 1., 0., 0.]])"
            ]
          },
          "metadata": {},
          "execution_count": 146
        }
      ]
    },
    {
      "cell_type": "markdown",
      "source": [
        "#### misc"
      ],
      "metadata": {
        "id": "mP9TSnNdnTvY"
      }
    },
    {
      "cell_type": "code",
      "source": [
        "# load data from file without pandas\n",
        "filedata = np.genfromtxt('data.txt', delimiter=';') # gets ; separated data from a data.txt file\n",
        "# it'll automatically cast it to float, unless:\n",
        "filedata = filedata.astype('int32')"
      ],
      "metadata": {
        "id": "0V9Iy93Hnam-"
      },
      "execution_count": null,
      "outputs": []
    },
    {
      "cell_type": "markdown",
      "source": [
        "There is a thing called boolean masking.\n",
        "`filedata > 50`\n",
        "\n",
        "and you can also take the values greater than 50 into a new array: `filedata[filedata > 50]`\n",
        "\n",
        "And you can index with a list in NumPy:"
      ],
      "metadata": {
        "id": "8igPj2nLobmR"
      }
    },
    {
      "cell_type": "code",
      "source": [
        "a = np.array([1,2,3,4,5,6,7,8,9])\n",
        "a[[1,2,8]]"
      ],
      "metadata": {
        "colab": {
          "base_uri": "https://localhost:8080/"
        },
        "id": "GEOe5OgBow_o",
        "outputId": "797dcfb1-c253-45d9-ce2b-c1f62702de99"
      },
      "execution_count": 148,
      "outputs": [
        {
          "output_type": "execute_result",
          "data": {
            "text/plain": [
              "array([2, 3, 9])"
            ]
          },
          "metadata": {},
          "execution_count": 148
        }
      ]
    },
    {
      "cell_type": "code",
      "source": [
        "((filedata > 50) & (filedata < 100))"
      ],
      "metadata": {
        "id": "tdDuQ39opnLy"
      },
      "execution_count": null,
      "outputs": []
    }
  ]
}